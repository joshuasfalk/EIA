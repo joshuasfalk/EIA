{
  "nbformat": 4,
  "nbformat_minor": 0,
  "metadata": {
    "colab": {
      "name": "Untitled2.ipynb",
      "provenance": [],
      "authorship_tag": "ABX9TyN4P2/3GRcFmfm1yw/5Zh1S",
      "include_colab_link": true
    },
    "kernelspec": {
      "name": "python3",
      "display_name": "Python 3"
    }
  },
  "cells": [
    {
      "cell_type": "markdown",
      "metadata": {
        "id": "view-in-github",
        "colab_type": "text"
      },
      "source": [
        "<a href=\"https://colab.research.google.com/github/joshuasfalk/EIA/blob/master/Test.ipynb\" target=\"_parent\"><img src=\"https://colab.research.google.com/assets/colab-badge.svg\" alt=\"Open In Colab\"/></a>"
      ]
    },
    {
      "cell_type": "code",
      "metadata": {
        "id": "U8bOPAWLSyDN"
      },
      "source": [
        "import pandas as pd\n",
        "import numpy as np\n",
        "\n",
        "FY18 = pd.read_excel(r'https://www.eia.gov/petroleum/imports/companylevel/archive/2018/data/impa18d.xlsx')\n",
        "FY19 = pd.read_excel(r'https://www.eia.gov/petroleum/imports/companylevel/archive/2019/data/impa19d_prel.xlsx')\n",
        "Jan20 = pd.read_excel(r'https://www.eia.gov/petroleum/imports/companylevel/archive/2020/2020_01/data/import.xlsx')\n",
        "Feb20 = pd.read_excel(r'https://www.eia.gov/petroleum/imports/companylevel/archive/2020/2020_02/data/import.xlsx')\n",
        "Mar20 = pd.read_excel(r'https://www.eia.gov/petroleum/imports/companylevel/archive/2020/2020_03/data/import.xlsx')\n",
        "Apr20 = pd.read_excel(r'https://www.eia.gov/petroleum/imports/companylevel/archive/2020/2020_04/data/import.xlsx')\n",
        "May20 = pd.read_excel(r'https://www.eia.gov/petroleum/imports/companylevel/archive/2020/2020_05/data/import.xlsx')\n",
        "Frames = [FY18, FY19,Jan20,Feb20,Mar20,Apr20,May20]\n",
        "Data = pd.concat(Frames)\n",
        "Prod_dict = Data.set_index('PROD_CODE')['PROD_NAME'].to_dict()\n",
        "Data['Site'] = Data['PCOMP_RNAM'] + \" - \" + Data['PCOMP_SNAM']\n",
        "Data['KBD'] = Data['QUANTITY'] / Data['RPT_PERIOD'].dt.day\n",
        "\n",
        "def ShowImports(Product,PADD,Field):\n",
        "  ShowImports = Data[Data['PROD_CODE']==Product]\n",
        "  ShowImports = ShowImports[ShowImports['PORT_PADD']==PADD]\n",
        "  ShowImports = ShowImports.pivot_table(index='RPT_PERIOD',\n",
        "                                        columns=Field,\n",
        "                                        values='KBD',\n",
        "                                        aggfunc=np.sum)\n",
        "  ShowImports = ShowImports.rename_axis('PADD ' + str(PADD) + ' imports of ' + Prod_dict[Product] + ' (KBD)')\n",
        "  ShowImports = ShowImports.fillna(0)\n",
        "  ShowImports['Total'] = ShowImports.sum(axis=1)\n",
        "  ShowImports = ShowImports.round()\n",
        "  return ShowImports\n",
        "\n",
        "Test = ShowImports(25,5,'Site')\n",
        "\n",
        "Capacities = pd.read_excel(r'https://www.eia.gov/petroleum/refinerycapacity/refcap20.xls')\n",
        "\n",
        "Capacities['Owner + Site'] = Capacities['CORPORATION'] + \" - \" + Capacities['SITE']\n",
        "Capacities['Supply + Product'] = Capacities['SUPPLY'] + \" - \" + Capacities['PRODUCT']\n",
        "\n",
        "Capacities.pivot_table(index='Owner + Site',\n",
        "                       columns='Supply + Product',\n",
        "                       values='QUANTITY',\n",
        "                       aggfunc=np.sum)\n"
      ],
      "execution_count": null,
      "outputs": []
    },
    {
      "cell_type": "code",
      "metadata": {
        "id": "O0F_rCeDS4BU"
      },
      "source": [
        ""
      ],
      "execution_count": null,
      "outputs": []
    },
    {
      "cell_type": "code",
      "metadata": {
        "id": "kLXhverKS563"
      },
      "source": [
        ""
      ],
      "execution_count": null,
      "outputs": []
    },
    {
      "cell_type": "code",
      "metadata": {
        "id": "hsytCUvETE-r"
      },
      "source": [
        ""
      ],
      "execution_count": null,
      "outputs": []
    },
    {
      "cell_type": "code",
      "metadata": {
        "id": "VASfqrBPTUps"
      },
      "source": [
        ""
      ],
      "execution_count": null,
      "outputs": []
    },
    {
      "cell_type": "code",
      "metadata": {
        "id": "M044R3hJTbQk"
      },
      "source": [
        ""
      ],
      "execution_count": null,
      "outputs": []
    }
  ]
}